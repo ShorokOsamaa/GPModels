{
 "cells": [
  {
   "cell_type": "code",
   "execution_count": 1,
   "metadata": {
    "_cell_guid": "b1076dfc-b9ad-4769-8c92-a6c4dae69d19",
    "_uuid": "8f2839f25d086af736a60e9eeb907d3b93b6e0e5",
    "execution": {
     "iopub.execute_input": "2023-02-06T16:30:29.115771Z",
     "iopub.status.busy": "2023-02-06T16:30:29.115167Z",
     "iopub.status.idle": "2023-02-06T16:30:33.674473Z",
     "shell.execute_reply": "2023-02-06T16:30:33.673462Z",
     "shell.execute_reply.started": "2023-02-06T16:30:29.115631Z"
    }
   },
   "outputs": [],
   "source": [
    "import numpy as np\n",
    "import matplotlib.pyplot as plt\n",
    "import os \n",
    "import cv2\n",
    "import tensorflow as tf\n",
    "from tensorflow.keras.models import Sequential\n",
    "from tensorflow.keras.layers import *"
   ]
  },
  {
   "cell_type": "code",
   "execution_count": 2,
   "metadata": {
    "execution": {
     "iopub.execute_input": "2023-02-06T16:30:33.677049Z",
     "iopub.status.busy": "2023-02-06T16:30:33.676386Z",
     "iopub.status.idle": "2023-02-06T16:30:45.945701Z",
     "shell.execute_reply": "2023-02-06T16:30:45.944543Z",
     "shell.execute_reply.started": "2023-02-06T16:30:33.677011Z"
    }
   },
   "outputs": [
    {
     "name": "stdout",
     "output_type": "stream",
     "text": [
      "Collecting split-folders\n",
      "  Downloading split_folders-0.5.1-py3-none-any.whl (8.4 kB)\n",
      "Installing collected packages: split-folders\n",
      "Successfully installed split-folders-0.5.1\n",
      "\u001b[33mWARNING: Running pip as the 'root' user can result in broken permissions and conflicting behaviour with the system package manager. It is recommended to use a virtual environment instead: https://pip.pypa.io/warnings/venv\u001b[0m\u001b[33m\n",
      "\u001b[0m"
     ]
    }
   ],
   "source": [
    "!pip install split-folders"
   ]
  },
  {
   "cell_type": "code",
   "execution_count": 3,
   "metadata": {
    "execution": {
     "iopub.execute_input": "2023-02-06T16:30:45.948640Z",
     "iopub.status.busy": "2023-02-06T16:30:45.947904Z",
     "iopub.status.idle": "2023-02-06T16:30:45.959465Z",
     "shell.execute_reply": "2023-02-06T16:30:45.958429Z",
     "shell.execute_reply.started": "2023-02-06T16:30:45.948598Z"
    }
   },
   "outputs": [],
   "source": [
    "import splitfolders"
   ]
  },
  {
   "cell_type": "code",
   "execution_count": 4,
   "metadata": {
    "execution": {
     "iopub.execute_input": "2023-02-06T16:30:45.963118Z",
     "iopub.status.busy": "2023-02-06T16:30:45.962693Z",
     "iopub.status.idle": "2023-02-06T16:32:16.501735Z",
     "shell.execute_reply": "2023-02-06T16:32:16.500707Z",
     "shell.execute_reply.started": "2023-02-06T16:30:45.963090Z"
    }
   },
   "outputs": [
    {
     "name": "stderr",
     "output_type": "stream",
     "text": [
      "Copying files: 25439 files [01:30, 281.05 files/s]\n"
     ]
    }
   ],
   "source": [
    "splitfolders.ratio(\"/kaggle/input/arslimgdataset-resized/ArSLimgDataset_resized\", output='./new', \n",
    "                   seed=1337, ratio=(.8,.1,.1), group_prefix=None, move=False)"
   ]
  },
  {
   "cell_type": "code",
   "execution_count": 5,
   "metadata": {
    "execution": {
     "iopub.execute_input": "2023-02-06T16:32:16.503635Z",
     "iopub.status.busy": "2023-02-06T16:32:16.503084Z",
     "iopub.status.idle": "2023-02-06T16:32:16.512652Z",
     "shell.execute_reply": "2023-02-06T16:32:16.510079Z",
     "shell.execute_reply.started": "2023-02-06T16:32:16.503598Z"
    }
   },
   "outputs": [],
   "source": [
    "TRAIN_DIR = '/kaggle/working/new/train'\n",
    "VAL_DIR = '/kaggle/working/new/val'\n",
    "TEST_DIR = '/kaggle/working/new/test'\n",
    "CATEGORIES = ['a', 'b', 'c', 'd', 'e', 'f', 'g', 'h', 'i', 'j', 'k', 'l',\n",
    "              'm', 'n', 'o', 'p', 'q', 'r', 's', 't', 'u', 'v', 'w', 'x', \n",
    "              'y', 'z', 'zz', 'zzz']\n",
    "ar_alphabet = ['ا', 'ب', 'ت', 'ث', 'ج', 'ح','خ', 'د','ذ', 'ر', 'ز', 'س',\n",
    "        'ش', 'ص','ض', 'ط', 'ظ','ع', 'غ', 'ف', 'ق','ك','ل', 'م','ن', 'ه', 'و','ي']\n",
    "IMG_SIZE=200"
   ]
  },
  {
   "cell_type": "code",
   "execution_count": 6,
   "metadata": {
    "execution": {
     "iopub.execute_input": "2023-02-06T16:32:16.515463Z",
     "iopub.status.busy": "2023-02-06T16:32:16.515152Z",
     "iopub.status.idle": "2023-02-06T16:32:16.522456Z",
     "shell.execute_reply": "2023-02-06T16:32:16.521515Z",
     "shell.execute_reply.started": "2023-02-06T16:32:16.515436Z"
    }
   },
   "outputs": [],
   "source": [
    "batch_size = 200"
   ]
  },
  {
   "cell_type": "code",
   "execution_count": 7,
   "metadata": {
    "execution": {
     "iopub.execute_input": "2023-02-06T16:32:16.524106Z",
     "iopub.status.busy": "2023-02-06T16:32:16.523733Z",
     "iopub.status.idle": "2023-02-06T16:32:17.313868Z",
     "shell.execute_reply": "2023-02-06T16:32:17.312843Z",
     "shell.execute_reply.started": "2023-02-06T16:32:16.524080Z"
    }
   },
   "outputs": [
    {
     "name": "stdout",
     "output_type": "stream",
     "text": [
      "Found 20336 images belonging to 28 classes.\n",
      "Found 2533 images belonging to 28 classes.\n",
      "Found 2570 images belonging to 28 classes.\n"
     ]
    }
   ],
   "source": [
    "traingen = tf.keras.preprocessing.image.ImageDataGenerator(rescale=1.0/255.0,\n",
    "                                                           zoom_range=[1, 1.25], \n",
    "                                                           brightness_range=[0.4, 0.99],\n",
    "                                                           fill_mode='nearest',\n",
    "                                                           horizontal_flip=True,)\n",
    "valgen = tf.keras.preprocessing.image.ImageDataGenerator(rescale=1.0/255.0)\n",
    "testgen = tf.keras.preprocessing.image.ImageDataGenerator(rescale=1.0/255.0)\n",
    "\n",
    "train_it = traingen.flow_from_directory(TRAIN_DIR, class_mode='categorical', target_size=(IMG_SIZE, IMG_SIZE), batch_size=batch_size)\n",
    "val_it = valgen.flow_from_directory(VAL_DIR, class_mode='categorical', target_size=(IMG_SIZE, IMG_SIZE),batch_size=batch_size)\n",
    "test_it = testgen.flow_from_directory(TEST_DIR, class_mode='categorical',target_size=(IMG_SIZE, IMG_SIZE), batch_size=batch_size, shuffle=False)"
   ]
  },
  {
   "cell_type": "code",
   "execution_count": 8,
   "metadata": {
    "execution": {
     "iopub.execute_input": "2023-02-06T16:32:17.321014Z",
     "iopub.status.busy": "2023-02-06T16:32:17.318473Z",
     "iopub.status.idle": "2023-02-06T16:32:17.332257Z",
     "shell.execute_reply": "2023-02-06T16:32:17.331030Z",
     "shell.execute_reply.started": "2023-02-06T16:32:17.320973Z"
    }
   },
   "outputs": [
    {
     "name": "stdout",
     "output_type": "stream",
     "text": [
      "102\n"
     ]
    }
   ],
   "source": [
    "print(len(train_it))"
   ]
  },
  {
   "cell_type": "code",
   "execution_count": 11,
   "metadata": {
    "execution": {
     "iopub.execute_input": "2023-02-06T16:32:17.357764Z",
     "iopub.status.busy": "2023-02-06T16:32:17.357352Z",
     "iopub.status.idle": "2023-02-06T16:32:20.443729Z",
     "shell.execute_reply": "2023-02-06T16:32:20.442250Z",
     "shell.execute_reply.started": "2023-02-06T16:32:17.357717Z"
    }
   },
   "outputs": [
    {
     "name": "stderr",
     "output_type": "stream",
     "text": [
      "2023-02-06 16:32:17.460857: I tensorflow/stream_executor/cuda/cuda_gpu_executor.cc:937] successful NUMA node read from SysFS had negative value (-1), but there must be at least one NUMA node, so returning NUMA node zero\n",
      "2023-02-06 16:32:17.553872: I tensorflow/stream_executor/cuda/cuda_gpu_executor.cc:937] successful NUMA node read from SysFS had negative value (-1), but there must be at least one NUMA node, so returning NUMA node zero\n",
      "2023-02-06 16:32:17.554710: I tensorflow/stream_executor/cuda/cuda_gpu_executor.cc:937] successful NUMA node read from SysFS had negative value (-1), but there must be at least one NUMA node, so returning NUMA node zero\n",
      "2023-02-06 16:32:17.557114: I tensorflow/core/platform/cpu_feature_guard.cc:142] This TensorFlow binary is optimized with oneAPI Deep Neural Network Library (oneDNN) to use the following CPU instructions in performance-critical operations:  AVX2 AVX512F FMA\n",
      "To enable them in other operations, rebuild TensorFlow with the appropriate compiler flags.\n",
      "2023-02-06 16:32:17.557425: I tensorflow/stream_executor/cuda/cuda_gpu_executor.cc:937] successful NUMA node read from SysFS had negative value (-1), but there must be at least one NUMA node, so returning NUMA node zero\n",
      "2023-02-06 16:32:17.558116: I tensorflow/stream_executor/cuda/cuda_gpu_executor.cc:937] successful NUMA node read from SysFS had negative value (-1), but there must be at least one NUMA node, so returning NUMA node zero\n",
      "2023-02-06 16:32:17.558738: I tensorflow/stream_executor/cuda/cuda_gpu_executor.cc:937] successful NUMA node read from SysFS had negative value (-1), but there must be at least one NUMA node, so returning NUMA node zero\n",
      "2023-02-06 16:32:19.752382: I tensorflow/stream_executor/cuda/cuda_gpu_executor.cc:937] successful NUMA node read from SysFS had negative value (-1), but there must be at least one NUMA node, so returning NUMA node zero\n",
      "2023-02-06 16:32:19.753290: I tensorflow/stream_executor/cuda/cuda_gpu_executor.cc:937] successful NUMA node read from SysFS had negative value (-1), but there must be at least one NUMA node, so returning NUMA node zero\n",
      "2023-02-06 16:32:19.754004: I tensorflow/stream_executor/cuda/cuda_gpu_executor.cc:937] successful NUMA node read from SysFS had negative value (-1), but there must be at least one NUMA node, so returning NUMA node zero\n",
      "2023-02-06 16:32:19.754595: I tensorflow/core/common_runtime/gpu/gpu_device.cc:1510] Created device /job:localhost/replica:0/task:0/device:GPU:0 with 15401 MB memory:  -> device: 0, name: Tesla P100-PCIE-16GB, pci bus id: 0000:00:04.0, compute capability: 6.0\n"
     ]
    },
    {
     "name": "stdout",
     "output_type": "stream",
     "text": [
      "Model: \"sequential\"\n",
      "_________________________________________________________________\n",
      "Layer (type)                 Output Shape              Param #   \n",
      "=================================================================\n",
      "conv2d (Conv2D)              (None, 198, 198, 32)      896       \n",
      "_________________________________________________________________\n",
      "activation (Activation)      (None, 198, 198, 32)      0         \n",
      "_________________________________________________________________\n",
      "max_pooling2d (MaxPooling2D) (None, 99, 99, 32)        0         \n",
      "_________________________________________________________________\n",
      "batch_normalization (BatchNo (None, 99, 99, 32)        128       \n",
      "_________________________________________________________________\n",
      "conv2d_1 (Conv2D)            (None, 97, 97, 64)        18496     \n",
      "_________________________________________________________________\n",
      "activation_1 (Activation)    (None, 97, 97, 64)        0         \n",
      "_________________________________________________________________\n",
      "max_pooling2d_1 (MaxPooling2 (None, 48, 48, 64)        0         \n",
      "_________________________________________________________________\n",
      "batch_normalization_1 (Batch (None, 48, 48, 64)        256       \n",
      "_________________________________________________________________\n",
      "conv2d_2 (Conv2D)            (None, 46, 46, 64)        36928     \n",
      "_________________________________________________________________\n",
      "activation_2 (Activation)    (None, 46, 46, 64)        0         \n",
      "_________________________________________________________________\n",
      "max_pooling2d_2 (MaxPooling2 (None, 23, 23, 64)        0         \n",
      "_________________________________________________________________\n",
      "batch_normalization_2 (Batch (None, 23, 23, 64)        256       \n",
      "_________________________________________________________________\n",
      "conv2d_3 (Conv2D)            (None, 21, 21, 64)        36928     \n",
      "_________________________________________________________________\n",
      "activation_3 (Activation)    (None, 21, 21, 64)        0         \n",
      "_________________________________________________________________\n",
      "max_pooling2d_3 (MaxPooling2 (None, 10, 10, 64)        0         \n",
      "_________________________________________________________________\n",
      "flatten (Flatten)            (None, 6400)              0         \n",
      "_________________________________________________________________\n",
      "dense (Dense)                (None, 28)                179228    \n",
      "=================================================================\n",
      "Total params: 273,116\n",
      "Trainable params: 272,796\n",
      "Non-trainable params: 320\n",
      "_________________________________________________________________\n"
     ]
    }
   ],
   "source": [
    "model = Sequential()\n",
    "\n",
    "model.add(Conv2D(32, (3, 3), input_shape=(IMG_SIZE, IMG_SIZE, 3)))\n",
    "model.add(Activation('relu'))\n",
    "model.add(MaxPooling2D((2, 2)))\n",
    "\n",
    "model.add(BatchNormalization())\n",
    "\n",
    "model.add(Conv2D(64, (3, 3)))\n",
    "model.add(Activation('relu'))\n",
    "model.add(MaxPooling2D((2, 2)))\n",
    "\n",
    "model.add(BatchNormalization())\n",
    "\n",
    "model.add(Conv2D(64, (3, 3)))\n",
    "model.add(Activation('relu'))\n",
    "model.add(MaxPooling2D((2, 2)))\n",
    "\n",
    "model.add(BatchNormalization())\n",
    "\n",
    "model.add(Conv2D(64, (3, 3)))\n",
    "model.add(Activation('relu'))\n",
    "model.add(MaxPooling2D((2, 2)))\n",
    "\n",
    "model.add(Flatten())\n",
    "\n",
    "# model.add(Dense(128, activation='relu'))\n",
    "\n",
    "\n",
    "model.add(Dense(28, activation='softmax'))\n",
    "\n",
    "model.summary()"
   ]
  },
  {
   "cell_type": "code",
   "execution_count": 12,
   "metadata": {
    "execution": {
     "iopub.execute_input": "2023-02-06T16:32:20.452262Z",
     "iopub.status.busy": "2023-02-06T16:32:20.451676Z",
     "iopub.status.idle": "2023-02-06T16:32:20.477114Z",
     "shell.execute_reply": "2023-02-06T16:32:20.476064Z",
     "shell.execute_reply.started": "2023-02-06T16:32:20.452214Z"
    }
   },
   "outputs": [],
   "source": [
    "model.compile(optimizer=\"adam\", loss='categorical_crossentropy', \n",
    "              metrics=['accuracy',tf.keras.metrics.Precision(),tf.keras.metrics.Recall()])"
   ]
  },
  {
   "cell_type": "code",
   "execution_count": 13,
   "metadata": {
    "execution": {
     "iopub.execute_input": "2023-02-06T16:32:20.478853Z",
     "iopub.status.busy": "2023-02-06T16:32:20.478513Z",
     "iopub.status.idle": "2023-02-06T20:57:02.953493Z",
     "shell.execute_reply": "2023-02-06T20:57:02.952441Z",
     "shell.execute_reply.started": "2023-02-06T16:32:20.478819Z"
    }
   },
   "outputs": [
    {
     "name": "stderr",
     "output_type": "stream",
     "text": [
      "2023-02-06 16:32:23.181507: I tensorflow/compiler/mlir/mlir_graph_optimization_pass.cc:185] None of the MLIR Optimization Passes are enabled (registered 2)\n"
     ]
    },
    {
     "name": "stdout",
     "output_type": "stream",
     "text": [
      "Epoch 1/100\n"
     ]
    },
    {
     "name": "stderr",
     "output_type": "stream",
     "text": [
      "2023-02-06 16:32:27.053067: I tensorflow/stream_executor/cuda/cuda_dnn.cc:369] Loaded cuDNN version 8005\n"
     ]
    },
    {
     "name": "stdout",
     "output_type": "stream",
     "text": [
      "102/102 [==============================] - 237s 2s/step - loss: 3.4725 - accuracy: 0.0478 - precision: 0.0364 - recall: 9.8348e-05 - val_loss: 3.3047 - val_accuracy: 0.0616 - val_precision: 0.0000e+00 - val_recall: 0.0000e+00\n",
      "Epoch 2/100\n",
      "102/102 [==============================] - 227s 2s/step - loss: 3.2055 - accuracy: 0.0940 - precision: 0.7179 - recall: 0.0028 - val_loss: 3.2441 - val_accuracy: 0.0640 - val_precision: 0.0000e+00 - val_recall: 0.0000e+00\n",
      "Epoch 3/100\n",
      "102/102 [==============================] - 229s 2s/step - loss: 2.8644 - accuracy: 0.1789 - precision: 0.6234 - recall: 0.0189 - val_loss: 3.1245 - val_accuracy: 0.1113 - val_precision: 0.0000e+00 - val_recall: 0.0000e+00\n",
      "Epoch 4/100\n",
      "102/102 [==============================] - 227s 2s/step - loss: 2.4679 - accuracy: 0.2703 - precision: 0.6497 - recall: 0.0595 - val_loss: 2.9408 - val_accuracy: 0.1275 - val_precision: 0.9167 - val_recall: 0.0043\n",
      "Epoch 5/100\n",
      "102/102 [==============================] - 227s 2s/step - loss: 2.1184 - accuracy: 0.3580 - precision: 0.6683 - recall: 0.1303 - val_loss: 2.6698 - val_accuracy: 0.1907 - val_precision: 0.6860 - val_recall: 0.0328\n",
      "Epoch 6/100\n",
      "102/102 [==============================] - 228s 2s/step - loss: 1.8352 - accuracy: 0.4387 - precision: 0.7128 - recall: 0.2136 - val_loss: 1.6154 - val_accuracy: 0.5030 - val_precision: 0.7923 - val_recall: 0.2199\n",
      "Epoch 7/100\n",
      "102/102 [==============================] - 227s 2s/step - loss: 1.5682 - accuracy: 0.5111 - precision: 0.7355 - recall: 0.3033 - val_loss: 1.2155 - val_accuracy: 0.6044 - val_precision: 0.8068 - val_recall: 0.4122\n",
      "Epoch 8/100\n",
      "102/102 [==============================] - 227s 2s/step - loss: 1.3630 - accuracy: 0.5714 - precision: 0.7578 - recall: 0.3902 - val_loss: 1.0285 - val_accuracy: 0.6593 - val_precision: 0.7974 - val_recall: 0.5282\n",
      "Epoch 9/100\n",
      "102/102 [==============================] - 227s 2s/step - loss: 1.2093 - accuracy: 0.6149 - precision: 0.7719 - recall: 0.4609 - val_loss: 1.0435 - val_accuracy: 0.6790 - val_precision: 0.8317 - val_recall: 0.4935\n",
      "Epoch 10/100\n",
      "102/102 [==============================] - 227s 2s/step - loss: 1.0890 - accuracy: 0.6508 - precision: 0.7867 - recall: 0.5179 - val_loss: 0.8460 - val_accuracy: 0.7205 - val_precision: 0.8109 - val_recall: 0.6435\n",
      "Epoch 11/100\n",
      "102/102 [==============================] - 226s 2s/step - loss: 0.9865 - accuracy: 0.6822 - precision: 0.7991 - recall: 0.5646 - val_loss: 0.9738 - val_accuracy: 0.6830 - val_precision: 0.7748 - val_recall: 0.5922\n",
      "Epoch 12/100\n",
      "102/102 [==============================] - 226s 2s/step - loss: 0.9064 - accuracy: 0.7108 - precision: 0.8160 - recall: 0.6080 - val_loss: 1.3304 - val_accuracy: 0.6506 - val_precision: 0.7045 - val_recall: 0.6194\n",
      "Epoch 13/100\n",
      "102/102 [==============================] - 225s 2s/step - loss: 0.8461 - accuracy: 0.7282 - precision: 0.8255 - recall: 0.6348 - val_loss: 0.8490 - val_accuracy: 0.7331 - val_precision: 0.7942 - val_recall: 0.6763\n",
      "Epoch 14/100\n",
      "102/102 [==============================] - 226s 2s/step - loss: 0.8176 - accuracy: 0.7358 - precision: 0.8254 - recall: 0.6504 - val_loss: 0.7409 - val_accuracy: 0.7631 - val_precision: 0.8321 - val_recall: 0.6944\n",
      "Epoch 15/100\n",
      "102/102 [==============================] - 223s 2s/step - loss: 0.7437 - accuracy: 0.7580 - precision: 0.8405 - recall: 0.6835 - val_loss: 0.7330 - val_accuracy: 0.7726 - val_precision: 0.8127 - val_recall: 0.7418\n",
      "Epoch 16/100\n",
      "102/102 [==============================] - 229s 2s/step - loss: 0.7142 - accuracy: 0.7691 - precision: 0.8468 - recall: 0.6979 - val_loss: 0.7376 - val_accuracy: 0.7592 - val_precision: 0.8443 - val_recall: 0.6613\n",
      "Epoch 17/100\n",
      "102/102 [==============================] - 227s 2s/step - loss: 0.6837 - accuracy: 0.7773 - precision: 0.8448 - recall: 0.7144 - val_loss: 0.6110 - val_accuracy: 0.7959 - val_precision: 0.8583 - val_recall: 0.7315\n",
      "Epoch 18/100\n",
      "102/102 [==============================] - 227s 2s/step - loss: 0.6469 - accuracy: 0.7888 - precision: 0.8548 - recall: 0.7248 - val_loss: 0.8191 - val_accuracy: 0.7548 - val_precision: 0.8039 - val_recall: 0.7075\n",
      "Epoch 19/100\n",
      "102/102 [==============================] - 227s 2s/step - loss: 0.6324 - accuracy: 0.7968 - precision: 0.8576 - recall: 0.7364 - val_loss: 0.6615 - val_accuracy: 0.7916 - val_precision: 0.8245 - val_recall: 0.7533\n",
      "Epoch 20/100\n",
      "102/102 [==============================] - 229s 2s/step - loss: 0.5963 - accuracy: 0.8068 - precision: 0.8653 - recall: 0.7512 - val_loss: 0.5425 - val_accuracy: 0.8156 - val_precision: 0.8497 - val_recall: 0.7876\n",
      "Epoch 21/100\n",
      "102/102 [==============================] - 228s 2s/step - loss: 0.5755 - accuracy: 0.8134 - precision: 0.8667 - recall: 0.7614 - val_loss: 0.5900 - val_accuracy: 0.8081 - val_precision: 0.8563 - val_recall: 0.7667\n",
      "Epoch 22/100\n",
      "102/102 [==============================] - 226s 2s/step - loss: 0.5484 - accuracy: 0.8224 - precision: 0.8719 - recall: 0.7743 - val_loss: 0.5694 - val_accuracy: 0.8172 - val_precision: 0.8566 - val_recall: 0.7805\n",
      "Epoch 23/100\n",
      "102/102 [==============================] - 226s 2s/step - loss: 0.5385 - accuracy: 0.8233 - precision: 0.8731 - recall: 0.7787 - val_loss: 0.5203 - val_accuracy: 0.8298 - val_precision: 0.8725 - val_recall: 0.7809\n",
      "Epoch 24/100\n",
      "102/102 [==============================] - 226s 2s/step - loss: 0.5172 - accuracy: 0.8316 - precision: 0.8799 - recall: 0.7882 - val_loss: 0.5832 - val_accuracy: 0.8318 - val_precision: 0.8580 - val_recall: 0.8160\n",
      "Epoch 25/100\n",
      "102/102 [==============================] - 226s 2s/step - loss: 0.4899 - accuracy: 0.8396 - precision: 0.8823 - recall: 0.8003 - val_loss: 0.4811 - val_accuracy: 0.8437 - val_precision: 0.8810 - val_recall: 0.8212\n",
      "Epoch 26/100\n",
      "102/102 [==============================] - 227s 2s/step - loss: 0.4786 - accuracy: 0.8446 - precision: 0.8866 - recall: 0.8043 - val_loss: 0.5262 - val_accuracy: 0.8298 - val_precision: 0.8581 - val_recall: 0.8093\n",
      "Epoch 27/100\n",
      "102/102 [==============================] - 226s 2s/step - loss: 0.4754 - accuracy: 0.8464 - precision: 0.8897 - recall: 0.8074 - val_loss: 0.8170 - val_accuracy: 0.7418 - val_precision: 0.8163 - val_recall: 0.6842\n",
      "Epoch 28/100\n",
      "102/102 [==============================] - 226s 2s/step - loss: 0.4604 - accuracy: 0.8472 - precision: 0.8872 - recall: 0.8112 - val_loss: 0.4284 - val_accuracy: 0.8575 - val_precision: 0.8789 - val_recall: 0.8452\n",
      "Epoch 29/100\n",
      "102/102 [==============================] - 226s 2s/step - loss: 0.4402 - accuracy: 0.8557 - precision: 0.8941 - recall: 0.8237 - val_loss: 0.4227 - val_accuracy: 0.8622 - val_precision: 0.8954 - val_recall: 0.8381\n",
      "Epoch 30/100\n",
      "102/102 [==============================] - 224s 2s/step - loss: 0.4462 - accuracy: 0.8541 - precision: 0.8911 - recall: 0.8221 - val_loss: 0.4597 - val_accuracy: 0.8417 - val_precision: 0.8676 - val_recall: 0.8251\n",
      "Epoch 31/100\n",
      "102/102 [==============================] - 224s 2s/step - loss: 0.4317 - accuracy: 0.8622 - precision: 0.8969 - recall: 0.8302 - val_loss: 0.4019 - val_accuracy: 0.8658 - val_precision: 0.8869 - val_recall: 0.8484\n",
      "Epoch 32/100\n",
      "102/102 [==============================] - 224s 2s/step - loss: 0.4141 - accuracy: 0.8649 - precision: 0.8979 - recall: 0.8355 - val_loss: 0.4302 - val_accuracy: 0.8666 - val_precision: 0.8955 - val_recall: 0.8421\n",
      "Epoch 33/100\n",
      "102/102 [==============================] - 223s 2s/step - loss: 0.4104 - accuracy: 0.8663 - precision: 0.9010 - recall: 0.8375 - val_loss: 0.5135 - val_accuracy: 0.8429 - val_precision: 0.8631 - val_recall: 0.8263\n",
      "Epoch 34/100\n",
      "102/102 [==============================] - 225s 2s/step - loss: 0.4127 - accuracy: 0.8649 - precision: 0.8978 - recall: 0.8346 - val_loss: 0.4348 - val_accuracy: 0.8602 - val_precision: 0.8844 - val_recall: 0.8393\n",
      "Epoch 35/100\n",
      "102/102 [==============================] - 223s 2s/step - loss: 0.4054 - accuracy: 0.8697 - precision: 0.9007 - recall: 0.8417 - val_loss: 0.5893 - val_accuracy: 0.8073 - val_precision: 0.8622 - val_recall: 0.7556\n",
      "Epoch 36/100\n",
      "102/102 [==============================] - 224s 2s/step - loss: 0.3771 - accuracy: 0.8773 - precision: 0.9081 - recall: 0.8516 - val_loss: 0.4726 - val_accuracy: 0.8468 - val_precision: 0.8743 - val_recall: 0.8239\n",
      "Epoch 37/100\n",
      "102/102 [==============================] - 224s 2s/step - loss: 0.3966 - accuracy: 0.8698 - precision: 0.9005 - recall: 0.8421 - val_loss: 0.4203 - val_accuracy: 0.8662 - val_precision: 0.8890 - val_recall: 0.8381\n",
      "Epoch 38/100\n",
      "102/102 [==============================] - 223s 2s/step - loss: 0.3749 - accuracy: 0.8778 - precision: 0.9061 - recall: 0.8508 - val_loss: 0.3938 - val_accuracy: 0.8760 - val_precision: 0.8947 - val_recall: 0.8650\n",
      "Epoch 39/100\n",
      "102/102 [==============================] - 225s 2s/step - loss: 0.3684 - accuracy: 0.8798 - precision: 0.9104 - recall: 0.8572 - val_loss: 0.4193 - val_accuracy: 0.8618 - val_precision: 0.8949 - val_recall: 0.8338\n",
      "Epoch 40/100\n",
      "102/102 [==============================] - 224s 2s/step - loss: 0.3632 - accuracy: 0.8825 - precision: 0.9089 - recall: 0.8598 - val_loss: 0.4695 - val_accuracy: 0.8571 - val_precision: 0.8809 - val_recall: 0.8437\n",
      "Epoch 41/100\n",
      "102/102 [==============================] - 225s 2s/step - loss: 0.3539 - accuracy: 0.8857 - precision: 0.9090 - recall: 0.8632 - val_loss: 0.3494 - val_accuracy: 0.8827 - val_precision: 0.9022 - val_recall: 0.8670\n",
      "Epoch 42/100\n",
      "102/102 [==============================] - 224s 2s/step - loss: 0.3563 - accuracy: 0.8842 - precision: 0.9094 - recall: 0.8595 - val_loss: 0.3913 - val_accuracy: 0.8749 - val_precision: 0.9096 - val_recall: 0.8504\n",
      "Epoch 43/100\n",
      "102/102 [==============================] - 224s 2s/step - loss: 0.3455 - accuracy: 0.8871 - precision: 0.9127 - recall: 0.8636 - val_loss: 0.3337 - val_accuracy: 0.8950 - val_precision: 0.9098 - val_recall: 0.8839\n",
      "Epoch 44/100\n",
      "102/102 [==============================] - 224s 2s/step - loss: 0.3431 - accuracy: 0.8916 - precision: 0.9149 - recall: 0.8691 - val_loss: 0.4018 - val_accuracy: 0.8788 - val_precision: 0.8932 - val_recall: 0.8654\n",
      "Epoch 45/100\n",
      "102/102 [==============================] - 223s 2s/step - loss: 0.3274 - accuracy: 0.8934 - precision: 0.9165 - recall: 0.8743 - val_loss: 0.3762 - val_accuracy: 0.8839 - val_precision: 0.8982 - val_recall: 0.8713\n",
      "Epoch 46/100\n",
      "102/102 [==============================] - 225s 2s/step - loss: 0.3345 - accuracy: 0.8929 - precision: 0.9161 - recall: 0.8727 - val_loss: 0.3393 - val_accuracy: 0.8977 - val_precision: 0.9092 - val_recall: 0.8895\n",
      "Epoch 47/100\n",
      "102/102 [==============================] - 225s 2s/step - loss: 0.3198 - accuracy: 0.8978 - precision: 0.9195 - recall: 0.8786 - val_loss: 0.3351 - val_accuracy: 0.8926 - val_precision: 0.9138 - val_recall: 0.8788\n",
      "Epoch 48/100\n",
      "102/102 [==============================] - 223s 2s/step - loss: 0.3192 - accuracy: 0.8977 - precision: 0.9215 - recall: 0.8773 - val_loss: 0.4334 - val_accuracy: 0.8595 - val_precision: 0.8910 - val_recall: 0.8263\n",
      "Epoch 49/100\n",
      "102/102 [==============================] - 225s 2s/step - loss: 0.3087 - accuracy: 0.9004 - precision: 0.9224 - recall: 0.8824 - val_loss: 0.3307 - val_accuracy: 0.8950 - val_precision: 0.9129 - val_recall: 0.8855\n",
      "Epoch 50/100\n",
      "102/102 [==============================] - 223s 2s/step - loss: 0.3138 - accuracy: 0.8980 - precision: 0.9189 - recall: 0.8799 - val_loss: 0.3536 - val_accuracy: 0.8922 - val_precision: 0.9026 - val_recall: 0.8851\n",
      "Epoch 51/100\n",
      "102/102 [==============================] - 223s 2s/step - loss: 0.3183 - accuracy: 0.8965 - precision: 0.9183 - recall: 0.8797 - val_loss: 0.4384 - val_accuracy: 0.8717 - val_precision: 0.8889 - val_recall: 0.8591\n",
      "Epoch 52/100\n",
      "102/102 [==============================] - 224s 2s/step - loss: 0.3016 - accuracy: 0.9014 - precision: 0.9226 - recall: 0.8853 - val_loss: 0.4624 - val_accuracy: 0.8472 - val_precision: 0.8760 - val_recall: 0.8310\n",
      "Epoch 53/100\n",
      "102/102 [==============================] - 224s 2s/step - loss: 0.2982 - accuracy: 0.8985 - precision: 0.9196 - recall: 0.8824 - val_loss: 0.3263 - val_accuracy: 0.9049 - val_precision: 0.9173 - val_recall: 0.8938\n",
      "Epoch 54/100\n",
      "102/102 [==============================] - 224s 2s/step - loss: 0.2974 - accuracy: 0.9015 - precision: 0.9221 - recall: 0.8844 - val_loss: 0.4323 - val_accuracy: 0.8583 - val_precision: 0.8844 - val_recall: 0.8456\n",
      "Epoch 55/100\n",
      "102/102 [==============================] - 224s 2s/step - loss: 0.2915 - accuracy: 0.9048 - precision: 0.9237 - recall: 0.8887 - val_loss: 0.3337 - val_accuracy: 0.8938 - val_precision: 0.9108 - val_recall: 0.8784\n",
      "Epoch 56/100\n",
      "102/102 [==============================] - 223s 2s/step - loss: 0.3008 - accuracy: 0.9006 - precision: 0.9205 - recall: 0.8831 - val_loss: 0.3364 - val_accuracy: 0.8863 - val_precision: 0.9035 - val_recall: 0.8764\n",
      "Epoch 57/100\n",
      "102/102 [==============================] - 224s 2s/step - loss: 0.2841 - accuracy: 0.9065 - precision: 0.9260 - recall: 0.8911 - val_loss: 0.2911 - val_accuracy: 0.9088 - val_precision: 0.9196 - val_recall: 0.8989\n",
      "Epoch 58/100\n",
      "102/102 [==============================] - 224s 2s/step - loss: 0.2942 - accuracy: 0.9007 - precision: 0.9201 - recall: 0.8868 - val_loss: 0.3549 - val_accuracy: 0.8910 - val_precision: 0.9072 - val_recall: 0.8800\n",
      "Epoch 59/100\n",
      "102/102 [==============================] - 225s 2s/step - loss: 0.2876 - accuracy: 0.9048 - precision: 0.9235 - recall: 0.8891 - val_loss: 0.3114 - val_accuracy: 0.9025 - val_precision: 0.9153 - val_recall: 0.8954\n",
      "Epoch 60/100\n",
      "102/102 [==============================] - 223s 2s/step - loss: 0.2620 - accuracy: 0.9131 - precision: 0.9307 - recall: 0.9004 - val_loss: 0.2646 - val_accuracy: 0.9218 - val_precision: 0.9307 - val_recall: 0.9124\n",
      "Epoch 61/100\n",
      "102/102 [==============================] - 223s 2s/step - loss: 0.2800 - accuracy: 0.9096 - precision: 0.9267 - recall: 0.8948 - val_loss: 0.3776 - val_accuracy: 0.8749 - val_precision: 0.8991 - val_recall: 0.8587\n",
      "Epoch 62/100\n",
      "102/102 [==============================] - 224s 2s/step - loss: 0.2817 - accuracy: 0.9065 - precision: 0.9247 - recall: 0.8913 - val_loss: 0.3416 - val_accuracy: 0.8962 - val_precision: 0.9081 - val_recall: 0.8895\n",
      "Epoch 63/100\n",
      "102/102 [==============================] - 223s 2s/step - loss: 0.2806 - accuracy: 0.9069 - precision: 0.9255 - recall: 0.8938 - val_loss: 0.3333 - val_accuracy: 0.9033 - val_precision: 0.9113 - val_recall: 0.8966\n",
      "Epoch 64/100\n",
      "102/102 [==============================] - 223s 2s/step - loss: 0.2663 - accuracy: 0.9147 - precision: 0.9313 - recall: 0.9021 - val_loss: 0.4412 - val_accuracy: 0.8650 - val_precision: 0.8916 - val_recall: 0.8445\n",
      "Epoch 65/100\n",
      "102/102 [==============================] - 224s 2s/step - loss: 0.2744 - accuracy: 0.9128 - precision: 0.9298 - recall: 0.8980 - val_loss: 0.3826 - val_accuracy: 0.8859 - val_precision: 0.9029 - val_recall: 0.8737\n",
      "Epoch 66/100\n",
      "102/102 [==============================] - 222s 2s/step - loss: 0.2578 - accuracy: 0.9150 - precision: 0.9311 - recall: 0.9021 - val_loss: 0.2971 - val_accuracy: 0.9068 - val_precision: 0.9153 - val_recall: 0.8997\n",
      "Epoch 67/100\n",
      "102/102 [==============================] - 223s 2s/step - loss: 0.2686 - accuracy: 0.9140 - precision: 0.9301 - recall: 0.9013 - val_loss: 0.5760 - val_accuracy: 0.8263 - val_precision: 0.8478 - val_recall: 0.8113\n",
      "Epoch 68/100\n",
      "102/102 [==============================] - 224s 2s/step - loss: 0.2592 - accuracy: 0.9159 - precision: 0.9317 - recall: 0.9037 - val_loss: 0.3407 - val_accuracy: 0.8899 - val_precision: 0.9103 - val_recall: 0.8772\n",
      "Epoch 69/100\n",
      "102/102 [==============================] - 224s 2s/step - loss: 0.2634 - accuracy: 0.9135 - precision: 0.9295 - recall: 0.9010 - val_loss: 0.3048 - val_accuracy: 0.9096 - val_precision: 0.9195 - val_recall: 0.9025\n",
      "Epoch 70/100\n",
      "102/102 [==============================] - 225s 2s/step - loss: 0.2639 - accuracy: 0.9162 - precision: 0.9305 - recall: 0.9019 - val_loss: 0.2801 - val_accuracy: 0.9112 - val_precision: 0.9210 - val_recall: 0.9021\n",
      "Restoring model weights from the end of the best epoch.\n",
      "Epoch 00070: early stopping\n"
     ]
    }
   ],
   "source": [
    "early_stop = tf.keras.callbacks.EarlyStopping(monitor='val_loss', mode='min', verbose=1, patience=10, restore_best_weights=True)\n",
    "history = model.fit(train_it, steps_per_epoch=len(train_it),validation_data=val_it,\n",
    "                    validation_steps=len(val_it), epochs=100, \n",
    "                    verbose=1, callbacks=[early_stop])"
   ]
  },
  {
   "cell_type": "code",
   "execution_count": 14,
   "metadata": {
    "execution": {
     "iopub.execute_input": "2023-02-06T20:57:02.955123Z",
     "iopub.status.busy": "2023-02-06T20:57:02.954746Z",
     "iopub.status.idle": "2023-02-06T20:57:42.343907Z",
     "shell.execute_reply": "2023-02-06T20:57:42.342980Z",
     "shell.execute_reply.started": "2023-02-06T20:57:02.955086Z"
    }
   },
   "outputs": [
    {
     "data": {
      "image/png": "[encoded data removed]",
      "text/plain": [
       "<Figure size 28800x28800 with 2 Axes>"
      ]
     },
     "metadata": {
      "needs_background": "light"
     },
     "output_type": "display_data"
    }
   ],
   "source": [
    "plt.figure(figsize=(400,400))\n",
    "\n",
    "ax = plt.subplot(100,50,1)\n",
    "plt.plot(history.history['loss'], color='teal', label='loss')\n",
    "plt.plot(history.history['val_loss'], color='orange', label='val_loss')\n",
    "plt.legend(loc=\"upper left\")   \n",
    "\n",
    "ax = plt.subplot(100,50,2)\n",
    "plt.plot(history.history['accuracy'], color='teal', label='accuracy')\n",
    "plt.plot(history.history['val_accuracy'], color='orange', label='val_accuracy')\n",
    "plt.legend(loc=\"upper left\")\n",
    "\n",
    "plt.show()"
   ]
  },
  {
   "cell_type": "code",
   "execution_count": 15,
   "metadata": {
    "execution": {
     "iopub.execute_input": "2023-02-06T20:57:42.346033Z",
     "iopub.status.busy": "2023-02-06T20:57:42.345423Z",
     "iopub.status.idle": "2023-02-06T20:57:49.086386Z",
     "shell.execute_reply": "2023-02-06T20:57:49.085438Z",
     "shell.execute_reply.started": "2023-02-06T20:57:42.345996Z"
    }
   },
   "outputs": [
    {
     "name": "stdout",
     "output_type": "stream",
     "text": [
      "13/13 [==============================] - 6s 483ms/step - loss: 0.2685 - accuracy: 0.9218 - precision: 0.9301 - recall: 0.9167\n",
      "Test results - Loss: 0.2684745490550995 - Accuracy: 92.17898845672607%\n",
      "Test results - Precision: 93.01223754882812 - Recall: 91.67315363883972%\n"
     ]
    }
   ],
   "source": [
    "test_results = model.evaluate(test_it, steps=len(test_it), verbose=1)\n",
    "print(f'Test results - Loss: {test_results[0]} - Accuracy: {test_results[1]*100}%')\n",
    "print(f'Test results - Precision: {test_results[2]*100} - Recall: {test_results[3]*100}%')"
   ]
  },
  {
   "cell_type": "code",
   "execution_count": 16,
   "metadata": {
    "execution": {
     "iopub.execute_input": "2023-02-06T20:57:49.087971Z",
     "iopub.status.busy": "2023-02-06T20:57:49.087605Z",
     "iopub.status.idle": "2023-02-06T20:57:58.160560Z",
     "shell.execute_reply": "2023-02-06T20:57:58.159671Z",
     "shell.execute_reply.started": "2023-02-06T20:57:49.087931Z"
    }
   },
   "outputs": [
    {
     "data": {
      "image/png": "[encoded data removed]",
      "text/plain": [
       "<Figure size 1080x864 with 2 Axes>"
      ]
     },
     "metadata": {
      "needs_background": "light"
     },
     "output_type": "display_data"
    }
   ],
   "source": [
    "#Confusion Matrix\n",
    "\n",
    "from sklearn.metrics import ConfusionMatrixDisplay, confusion_matrix\n",
    "\n",
    "y_predictions = model.predict(test_it)\n",
    "y_pred = np.argmax(y_predictions, axis=1)\n",
    "\n",
    "cm=confusion_matrix(test_it.classes, y_pred)\n",
    "\n",
    "disp = ConfusionMatrixDisplay(confusion_matrix=cm, display_labels=ar_alphabet)\n",
    "\n",
    "plt.rcParams[\"figure.figsize\"] = 15, 12\n",
    "disp.plot()\n",
    "plt.show()"
   ]
  },
  {
   "cell_type": "code",
   "execution_count": 17,
   "metadata": {
    "execution": {
     "iopub.execute_input": "2023-02-06T20:57:58.162773Z",
     "iopub.status.busy": "2023-02-06T20:57:58.162063Z",
     "iopub.status.idle": "2023-02-06T20:57:58.178160Z",
     "shell.execute_reply": "2023-02-06T20:57:58.177184Z",
     "shell.execute_reply.started": "2023-02-06T20:57:58.162718Z"
    }
   },
   "outputs": [
    {
     "name": "stdout",
     "output_type": "stream",
     "text": [
      "              precision    recall  f1-score   support\n",
      "\n",
      "           ا       0.96      0.95      0.95        95\n",
      "           ب       0.95      0.94      0.94        96\n",
      "           ت       0.95      0.95      0.95        94\n",
      "           ث       0.92      0.91      0.91        96\n",
      "           ج       0.95      0.90      0.92        96\n",
      "           ح       0.89      0.92      0.90        95\n",
      "           خ       0.96      0.93      0.94        95\n",
      "           د       0.89      0.95      0.92        95\n",
      "           ذ       0.91      0.95      0.93        94\n",
      "           ر       0.92      0.83      0.87        94\n",
      "           ز       0.94      0.81      0.87        93\n",
      "           س       0.97      0.98      0.97        95\n",
      "           ش       0.99      1.00      0.99        93\n",
      "           ص       0.94      0.83      0.88        94\n",
      "           ض       0.87      0.90      0.88       107\n",
      "           ط       0.90      0.97      0.93        94\n",
      "           ظ       0.94      0.89      0.92        95\n",
      "           ع       0.97      0.99      0.98        94\n",
      "           غ       0.95      0.98      0.96        93\n",
      "           ف       0.92      0.76      0.83        87\n",
      "           ق       0.74      0.93      0.83        91\n",
      "           ك       0.92      0.96      0.94        95\n",
      "           ل       0.92      0.97      0.94        88\n",
      "           م       0.93      0.91      0.92        89\n",
      "           ن       0.88      0.96      0.92        83\n",
      "           ه       0.98      0.88      0.93        72\n",
      "           و       0.95      0.91      0.93        76\n",
      "           ي       0.91      0.99      0.95        81\n",
      "\n",
      "    accuracy                           0.92      2570\n",
      "   macro avg       0.92      0.92      0.92      2570\n",
      "weighted avg       0.92      0.92      0.92      2570\n",
      "\n"
     ]
    }
   ],
   "source": [
    "#Classification Report\n",
    "\n",
    "from sklearn.metrics import classification_report\n",
    "\n",
    "report = classification_report(test_it.classes,y_pred, target_names=ar_alphabet)\n",
    "print(report)"
   ]
  },
  {
   "cell_type": "code",
   "execution_count": 18,
   "metadata": {
    "execution": {
     "iopub.execute_input": "2023-02-06T20:57:58.181250Z",
     "iopub.status.busy": "2023-02-06T20:57:58.180997Z",
     "iopub.status.idle": "2023-02-06T20:57:58.236536Z",
     "shell.execute_reply": "2023-02-06T20:57:58.235618Z",
     "shell.execute_reply.started": "2023-02-06T20:57:58.181228Z"
    }
   },
   "outputs": [],
   "source": [
    "model_name = 'ArabicAlphabetSL'\n",
    "model.save(f\"{model_name}.h5\")"
   ]
  },
  {
   "cell_type": "code",
   "execution_count": null,
   "metadata": {},
   "outputs": [],
   "source": []
  },
  {
   "cell_type": "markdown",
   "metadata": {},
   "source": [
    "# Test II"
   ]
  },
  {
   "cell_type": "code",
   "execution_count": 19,
   "metadata": {
    "execution": {
     "iopub.execute_input": "2023-02-06T20:57:58.239383Z",
     "iopub.status.busy": "2023-02-06T20:57:58.238685Z",
     "iopub.status.idle": "2023-02-06T20:57:58.403578Z",
     "shell.execute_reply": "2023-02-06T20:57:58.402742Z",
     "shell.execute_reply.started": "2023-02-06T20:57:58.239347Z"
    }
   },
   "outputs": [],
   "source": [
    "from tensorflow.keras.models import load_model\n",
    "loaded_model = load_model(f'/kaggle/working/{model_name}.h5')"
   ]
  },
  {
   "cell_type": "code",
   "execution_count": 20,
   "metadata": {
    "execution": {
     "iopub.execute_input": "2023-02-06T20:57:58.405074Z",
     "iopub.status.busy": "2023-02-06T20:57:58.404729Z",
     "iopub.status.idle": "2023-02-06T20:57:58.519962Z",
     "shell.execute_reply": "2023-02-06T20:57:58.518972Z",
     "shell.execute_reply.started": "2023-02-06T20:57:58.405041Z"
    }
   },
   "outputs": [
    {
     "name": "stdout",
     "output_type": "stream",
     "text": [
      "Found 280 images belonging to 28 classes.\n"
     ]
    }
   ],
   "source": [
    "TEST2_DIR = \"/kaggle/input/alphabetsarabicsignlanguage/AlphabetsArabicSignLanguage\"\n",
    "test2gen = tf.keras.preprocessing.image.ImageDataGenerator(rescale=1.0/255.0)\n",
    "\n",
    "test2_it = testgen.flow_from_directory(TEST2_DIR, class_mode='categorical',target_size=(IMG_SIZE, IMG_SIZE), batch_size=batch_size, shuffle=False)"
   ]
  },
  {
   "cell_type": "code",
   "execution_count": 21,
   "metadata": {
    "execution": {
     "iopub.execute_input": "2023-02-06T20:57:58.521844Z",
     "iopub.status.busy": "2023-02-06T20:57:58.521487Z",
     "iopub.status.idle": "2023-02-06T20:59:11.015487Z",
     "shell.execute_reply": "2023-02-06T20:59:11.014430Z",
     "shell.execute_reply.started": "2023-02-06T20:57:58.521812Z"
    }
   },
   "outputs": [
    {
     "name": "stdout",
     "output_type": "stream",
     "text": [
      "2/2 [==============================] - 41s 13s/step - loss: 1.0075 - accuracy: 0.7964 - precision: 0.8051 - recall: 0.7964\n",
      "Test results - Loss: 1.0075236558914185 - Accuracy: 79.64285612106323%\n",
      "Test results - Precision: 80.50541281700134 - Recall: 79.64285612106323%\n"
     ]
    }
   ],
   "source": [
    "test2_results = loaded_model.evaluate(test2_it, verbose=1)\n",
    "print(f'Test results - Loss: {test2_results[0]} - Accuracy: {test2_results[1]*100}%')\n",
    "print(f'Test results - Precision: {test2_results[2]*100} - Recall: {test2_results[3]*100}%')"
   ]
  },
  {
   "cell_type": "code",
   "execution_count": 22,
   "metadata": {
    "execution": {
     "iopub.execute_input": "2023-02-06T20:59:11.017465Z",
     "iopub.status.busy": "2023-02-06T20:59:11.017089Z",
     "iopub.status.idle": "2023-02-06T21:00:16.172319Z",
     "shell.execute_reply": "2023-02-06T21:00:16.171202Z",
     "shell.execute_reply.started": "2023-02-06T20:59:11.017430Z"
    }
   },
   "outputs": [
    {
     "data": {
      "image/png": "[encoded data removed]",
      "text/plain": [
       "<Figure size 1080x864 with 2 Axes>"
      ]
     },
     "metadata": {
      "needs_background": "light"
     },
     "output_type": "display_data"
    }
   ],
   "source": [
    "#Confusion Matrix\n",
    "\n",
    "y_predictions2 = model.predict(test2_it)\n",
    "y_pred2 = np.argmax(y_predictions2, axis=1)\n",
    "\n",
    "cm=confusion_matrix(test2_it.classes, y_pred2)\n",
    "\n",
    "disp = ConfusionMatrixDisplay(confusion_matrix=cm, display_labels=ar_alphabet)\n",
    "\n",
    "plt.rcParams[\"figure.figsize\"] = 15, 12\n",
    "disp.plot()\n",
    "plt.show()"
   ]
  },
  {
   "cell_type": "code",
   "execution_count": null,
   "metadata": {},
   "outputs": [],
   "source": []
  },
  {
   "cell_type": "code",
   "execution_count": null,
   "metadata": {},
   "outputs": [],
   "source": []
  },
  {
   "cell_type": "markdown",
   "metadata": {},
   "source": [
    "# TFLite"
   ]
  },
  {
   "cell_type": "code",
   "execution_count": 23,
   "metadata": {
    "execution": {
     "iopub.execute_input": "2023-02-06T21:00:16.174208Z",
     "iopub.status.busy": "2023-02-06T21:00:16.173780Z",
     "iopub.status.idle": "2023-02-06T21:00:18.997274Z",
     "shell.execute_reply": "2023-02-06T21:00:18.995172Z",
     "shell.execute_reply.started": "2023-02-06T21:00:16.174172Z"
    }
   },
   "outputs": [
    {
     "name": "stderr",
     "output_type": "stream",
     "text": [
      "2023-02-06 21:00:17.269237: W tensorflow/python/util/util.cc:348] Sets are not currently considered sequences, but this may change in the future, so consider avoiding using them.\n",
      "2023-02-06 21:00:18.786725: I tensorflow/stream_executor/cuda/cuda_gpu_executor.cc:937] successful NUMA node read from SysFS had negative value (-1), but there must be at least one NUMA node, so returning NUMA node zero\n",
      "2023-02-06 21:00:18.787110: I tensorflow/core/grappler/devices.cc:66] Number of eligible GPUs (core count >= 8, compute capability >= 0.0): 1\n",
      "2023-02-06 21:00:18.787225: I tensorflow/core/grappler/clusters/single_machine.cc:357] Starting new session\n",
      "2023-02-06 21:00:18.787660: I tensorflow/stream_executor/cuda/cuda_gpu_executor.cc:937] successful NUMA node read from SysFS had negative value (-1), but there must be at least one NUMA node, so returning NUMA node zero\n",
      "2023-02-06 21:00:18.788092: I tensorflow/stream_executor/cuda/cuda_gpu_executor.cc:937] successful NUMA node read from SysFS had negative value (-1), but there must be at least one NUMA node, so returning NUMA node zero\n",
      "2023-02-06 21:00:18.788425: I tensorflow/stream_executor/cuda/cuda_gpu_executor.cc:937] successful NUMA node read from SysFS had negative value (-1), but there must be at least one NUMA node, so returning NUMA node zero\n",
      "2023-02-06 21:00:18.788843: I tensorflow/stream_executor/cuda/cuda_gpu_executor.cc:937] successful NUMA node read from SysFS had negative value (-1), but there must be at least one NUMA node, so returning NUMA node zero\n",
      "2023-02-06 21:00:18.789197: I tensorflow/stream_executor/cuda/cuda_gpu_executor.cc:937] successful NUMA node read from SysFS had negative value (-1), but there must be at least one NUMA node, so returning NUMA node zero\n",
      "2023-02-06 21:00:18.789464: I tensorflow/core/common_runtime/gpu/gpu_device.cc:1510] Created device /job:localhost/replica:0/task:0/device:GPU:0 with 15401 MB memory:  -> device: 0, name: Tesla P100-PCIE-16GB, pci bus id: 0000:00:04.0, compute capability: 6.0\n",
      "2023-02-06 21:00:18.793027: I tensorflow/core/grappler/optimizers/meta_optimizer.cc:1137] Optimization results for grappler item: graph_to_optimize\n",
      "  function_optimizer: function_optimizer did nothing. time = 0.007ms.\n",
      "  function_optimizer: function_optimizer did nothing. time = 0.001ms.\n",
      "\n",
      "2023-02-06 21:00:18.885800: W tensorflow/compiler/mlir/lite/python/tf_tfl_flatbuffer_helpers.cc:351] Ignored output_format.\n",
      "2023-02-06 21:00:18.885834: W tensorflow/compiler/mlir/lite/python/tf_tfl_flatbuffer_helpers.cc:354] Ignored drop_control_dependency.\n",
      "2023-02-06 21:00:18.911553: I tensorflow/compiler/mlir/tensorflow/utils/dump_mlir_util.cc:210] disabling MLIR crash reproducer, set env var `MLIR_CRASH_REPRODUCER_DIRECTORY` to enable.\n"
     ]
    }
   ],
   "source": [
    "import tensorflow as tf\n",
    "from tensorflow.keras.models import load_model\n",
    "\n",
    "keras_model = load_model('/kaggle/working/ArabicAlphabetSL.h5')\n",
    "converter = tf.lite.TFLiteConverter.from_keras_model(keras_model)\n",
    "tflite_model = converter.convert()\n",
    "with open(f'{model_name}.tflite', 'wb') as f:\n",
    "    f.write(tflite_model)"
   ]
  },
  {
   "cell_type": "code",
   "execution_count": null,
   "metadata": {},
   "outputs": [],
   "source": []
  }
 ],
 "metadata": {
  "kernelspec": {
   "display_name": "Python 3 (ipykernel)",
   "language": "python",
   "name": "python3"
  },
  "language_info": {
   "codemirror_mode": {
    "name": "ipython",
    "version": 3
   },
   "file_extension": ".py",
   "mimetype": "text/x-python",
   "name": "python",
   "nbconvert_exporter": "python",
   "pygments_lexer": "ipython3",
   "version": "3.9.12"
  }
 },
 "nbformat": 4,
 "nbformat_minor": 4
}
